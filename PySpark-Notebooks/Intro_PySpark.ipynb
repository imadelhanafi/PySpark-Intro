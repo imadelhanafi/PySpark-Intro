{
 "cells": [
  {
   "cell_type": "code",
   "execution_count": 1,
   "metadata": {
    "collapsed": true
   },
   "outputs": [],
   "source": [
    "import findspark\n",
    "findspark.init(\"/Users/imadelhanafi/anaconda/lib/python2.7/site-packages/pyspark\")\n",
    "import pyspark"
   ]
  },
  {
   "cell_type": "code",
   "execution_count": 3,
   "metadata": {},
   "outputs": [
    {
     "name": "stdout",
     "output_type": "stream",
     "text": [
      "xrangeRDD id: 1\n"
     ]
    }
   ],
   "source": [
    "from pyspark import SparkConf, SparkContext\n",
    "\n",
    "# Creating RDD\n",
    "# Creat SparkContext (the master)\n",
    "conf = SparkConf().setMaster(\"local\").setAppName(\"exercices\")\n",
    "sc = SparkContext(conf = conf)\n",
    "\n",
    "# Creat data\n",
    "\n",
    "data = xrange(1, 10001)\n",
    "\n",
    "#Each partition holds a unique subset of the entries in the list. Spark calls datasets that it stores \"Resilient Distributed Datasets\" (RDDs).\n",
    "\n",
    "xrangeRDD = sc.parallelize(data, 8)\n",
    "print 'xrangeRDD id: {0}'.format(xrangeRDD.id())\n",
    "xrangeRDD.setName('My first RDD')\n"
   ]
  },
  {
   "cell_type": "code",
   "execution_count": 9,
   "metadata": {},
   "outputs": [
    {
     "name": "stdout",
     "output_type": "stream",
     "text": [
      "(8) My first RDD PythonRDD[1] at RDD at PythonRDD.scala:48 []\n",
      " |  ParallelCollectionRDD[0] at parallelize at PythonRDD.scala:480 []\n"
     ]
    }
   ],
   "source": [
    "# View Lineage of an RDD '(set of transformations)\n",
    "print xrangeRDD.toDebugString()\n"
   ]
  },
  {
   "cell_type": "code",
   "execution_count": 10,
   "metadata": {},
   "outputs": [
    {
     "data": {
      "text/plain": [
       "8"
      ]
     },
     "execution_count": 10,
     "metadata": {},
     "output_type": "execute_result"
    }
   ],
   "source": [
    "# Get number of partitions \n",
    "# When the operation on one entry doesn't effect the operations on any of the other entries, we can parallelize the operation.¶\n",
    "\n",
    "xrangeRDD.getNumPartitions()\n"
   ]
  },
  {
   "cell_type": "code",
   "execution_count": 12,
   "metadata": {},
   "outputs": [
    {
     "name": "stdout",
     "output_type": "stream",
     "text": [
      "(8) PythonRDD[5] at RDD at PythonRDD.scala:48 []\n",
      " |  ParallelCollectionRDD[0] at parallelize at PythonRDD.scala:480 []\n"
     ]
    }
   ],
   "source": [
    "######## Map() transformation\n",
    "#When applying the map() transformation, each item in the parent RDD will map to one element in the new RDD\n",
    "\n",
    "def add(value):\n",
    "    \"\"\"\"add one to value\n",
    "    \"\"\"\n",
    "    return (value + 1)\n",
    "\n",
    "# Transform xrangeRDD through map transformation using sub function\n",
    "\n",
    "addRDD = xrangeRDD.map(add)\n",
    "\n",
    "# Let's see the RDD transformation hierarchy\n",
    "print addRDD.toDebugString()"
   ]
  },
  {
   "cell_type": "code",
   "execution_count": 21,
   "metadata": {},
   "outputs": [
    {
     "name": "stdout",
     "output_type": "stream",
     "text": [
      "[2, 3, 4, 5, 6]\n",
      "10000\n"
     ]
    }
   ],
   "source": [
    "##### collect to view results \n",
    "\n",
    "\n",
    "#print addRDD.collect()\n",
    "# Print only 5 first elements\n",
    "\n",
    "print addRDD.take(5)\n",
    "print xrangeRDD.count()\n"
   ]
  },
  {
   "cell_type": "code",
   "execution_count": 25,
   "metadata": {},
   "outputs": [
    {
     "name": "stdout",
     "output_type": "stream",
     "text": [
      "[2, 3, 4]\n"
     ]
    }
   ],
   "source": [
    "###### Apply filters \n",
    "\n",
    "# Define a function to filter\n",
    "def five(value): return value < 5\n",
    "\"\"\"\n",
    "    True if value is smaller than five\n",
    "    False otherwise\n",
    "\"\"\"\n",
    "\n",
    "# Filter is a transformation so no tasks are run\n",
    "filteredRDD = addRDD.filter(five)\n",
    "\n",
    "# View the results using collect()\n",
    "# Collect is an action so the filter transformation is runned\n",
    "\n",
    "print filteredRDD.collect()"
   ]
  },
  {
   "cell_type": "code",
   "execution_count": 27,
   "metadata": {},
   "outputs": [
    {
     "data": {
      "text/plain": [
       "[3]"
      ]
     },
     "execution_count": 27,
     "metadata": {},
     "output_type": "execute_result"
    }
   ],
   "source": [
    "#### Another way using the lambda function\n",
    "\n",
    "#collect the odd values less than 10\n",
    "oddRDD = filteredRDD.filter(lambda x: x % 2 != 0)\n",
    "oddRDD.collect()"
   ]
  },
  {
   "cell_type": "code",
   "execution_count": 34,
   "metadata": {
    "collapsed": true
   },
   "outputs": [],
   "source": [
    "#### Advanced actions and transformations"
   ]
  },
  {
   "cell_type": "code",
   "execution_count": 35,
   "metadata": {},
   "outputs": [
    {
     "name": "stdout",
     "output_type": "stream",
     "text": [
      "[2, 3, 4]\n",
      "[4, 3, 2]\n"
     ]
    }
   ],
   "source": [
    "# Retrieve the three smallest elements\n",
    "print filteredRDD.takeOrdered(3)\n",
    "# Retrieve the five largest elements\n",
    "print filteredRDD.top(5)\n"
   ]
  },
  {
   "cell_type": "code",
   "execution_count": 36,
   "metadata": {},
   "outputs": [
    {
     "name": "stdout",
     "output_type": "stream",
     "text": [
      "9\n"
     ]
    }
   ],
   "source": [
    "#reduce() action reduces the elements of a RDD to a single value by applying a function that takes two parameters and returns a single value.\n",
    "\n",
    "print filteredRDD.reduce(lambda a, b: a + b)\n"
   ]
  },
  {
   "cell_type": "code",
   "execution_count": 37,
   "metadata": {},
   "outputs": [
    {
     "name": "stdout",
     "output_type": "stream",
     "text": [
      "defaultdict(<type 'int'>, {1: 4, 2: 4, 3: 5, 4: 2, 5: 1, 6: 1})\n"
     ]
    }
   ],
   "source": [
    "# Create new base RDD to show countByValue\n",
    "repRDD = sc.parallelize([1, 2, 3, 1, 2, 3, 1, 2, 1, 2, 3, 3, 3, 4, 5, 4, 6])\n",
    "print repRDD.countByValue()"
   ]
  },
  {
   "cell_type": "code",
   "execution_count": 39,
   "metadata": {},
   "outputs": [
    {
     "name": "stdout",
     "output_type": "stream",
     "text": [
      "[('cat', 'cats'), ('elephant', 'elephants'), ('rat', 'rats'), ('rat', 'rats'), ('cat', 'cats')]\n",
      "['cat', 'cats', 'elephant', 'elephants', 'rat', 'rats', 'rat', 'rats', 'cat', 'cats']\n"
     ]
    }
   ],
   "source": [
    "#Map vs flatMap -  RDD transformations \n",
    "\n",
    "# Let's create a new base RDD to work from\n",
    "wordsList = ['cat', 'elephant', 'rat', 'rat', 'cat']\n",
    "wordsRDD = sc.parallelize(wordsList)\n",
    "\n",
    "# Use map\n",
    "singularAndPluralWordsRDDMap = wordsRDD.map(lambda x: (x, x + 's'))\n",
    "# Use flatMap\n",
    "singularAndPluralWordsRDD = wordsRDD.flatMap(lambda x: (x, x + 's'))\n",
    "\n",
    "# View the results\n",
    "print singularAndPluralWordsRDDMap.collect()\n",
    "print singularAndPluralWordsRDD.collect()"
   ]
  },
  {
   "cell_type": "code",
   "execution_count": 43,
   "metadata": {},
   "outputs": [
    {
     "name": "stdout",
     "output_type": "stream",
     "text": [
      "[('a', [1, 2]), ('b', [1])]\n",
      "[('a', 3), ('b', 1)]\n"
     ]
    }
   ],
   "source": [
    "# groupByKey \n",
    "\n",
    "pairRDD = sc.parallelize([('a', 1), ('a', 2), ('b', 1)])\n",
    "print pairRDD.groupByKey().mapValues(lambda x: list(x)).collect()\n",
    "\n",
    "print pairRDD.groupByKey().mapValues(lambda x: sum(x)).collect()\n"
   ]
  },
  {
   "cell_type": "code",
   "execution_count": null,
   "metadata": {
    "collapsed": true
   },
   "outputs": [],
   "source": []
  }
 ],
 "metadata": {
  "kernelspec": {
   "display_name": "Python 2",
   "language": "python",
   "name": "python2"
  },
  "language_info": {
   "codemirror_mode": {
    "name": "ipython",
    "version": 2
   },
   "file_extension": ".py",
   "mimetype": "text/x-python",
   "name": "python",
   "nbconvert_exporter": "python",
   "pygments_lexer": "ipython2",
   "version": "2.7.13"
  }
 },
 "nbformat": 4,
 "nbformat_minor": 2
}
